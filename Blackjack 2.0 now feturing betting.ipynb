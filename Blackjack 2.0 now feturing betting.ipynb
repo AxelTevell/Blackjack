{
 "cells": [
  {
   "cell_type": "markdown",
   "metadata": {},
   "source": [
    "# Blackjack\n",
    "\n",
    "i detta spel ska du försöka vinna över dealern genom att ha ett högre värde en dealern utan att nå över 21"
   ]
  },
  {
   "cell_type": "code",
   "execution_count": 1,
   "metadata": {},
   "outputs": [],
   "source": [
    "import random\n",
    "import time\n",
    "from colorama import Fore, Style"
   ]
  },
  {
   "cell_type": "code",
   "execution_count": 2,
   "metadata": {},
   "outputs": [],
   "source": [
    "# returns a list of cards that contains \"nbr\" amount of decks\n",
    "\n",
    "def add_cards(nbr):\n",
    "    cards = []\n",
    "    for i in range(4*nbr):\n",
    "        cards.append(\"K\")\n",
    "        cards.append(\"D\")\n",
    "        cards.append(\"J\")\n",
    "        cards.append(\"A\")\n",
    "        for n in range(2,11):\n",
    "            cards.append(n)\n",
    "    return cards"
   ]
  },
  {
   "cell_type": "code",
   "execution_count": 3,
   "metadata": {},
   "outputs": [],
   "source": [
    "# prints out the rules and welcomes the player\n",
    "\n",
    "def rules():\n",
    "    print(\"Welcome to the table monsiuer! \\nHere we are playing Black Jack and the rules are as follows:\\n\\nEach players starts with a thousand chips\\nPlace your bets in the beginning of the round\\nWhen you get total value higher than 21 on your hand you go bust\\nTo win you will need to get a higher value than the dealer\\nAces are worth either 1 or 11\\n\\nGood luck!\\n\")"
   ]
  },
  {
   "cell_type": "code",
   "execution_count": 4,
   "metadata": {},
   "outputs": [],
   "source": [
    "# shuffles a deck of cards\n",
    "\n",
    "def mix(deck):\n",
    "    return random.shuffle(deck)"
   ]
  },
  {
   "cell_type": "code",
   "execution_count": 5,
   "metadata": {},
   "outputs": [],
   "source": [
    "# adds a player to the game and the player can choose his nick\n",
    "\n",
    "def add_player():\n",
    "    name = input(\"\\nWrite player nickname: \")\n",
    "    players.append(name)\n",
    "    score[name]=[[],[],[]]\n",
    "    balance[name]=1000"
   ]
  },
  {
   "cell_type": "code",
   "execution_count": 6,
   "metadata": {},
   "outputs": [],
   "source": [
    "# player score gets reset\n",
    "\n",
    "def clear_score(player_name):\n",
    "    score[player_name]=[[],[],[]]"
   ]
  },
  {
   "cell_type": "code",
   "execution_count": 7,
   "metadata": {},
   "outputs": [],
   "source": [
    "# deals the last card in the deck to \"player_name\" and removes the card from the deck\n",
    "\n",
    "def deal(player_name):\n",
    "    score[player_name][0].append(card_deck.pop())"
   ]
  },
  {
   "cell_type": "code",
   "execution_count": 8,
   "metadata": {},
   "outputs": [],
   "source": [
    "# prints the cards the player has on hand\n",
    "\n",
    "def update(player_name):\n",
    "    time.sleep(0.1)\n",
    "    print(player_name,\"has:\",score[player_name][0],\"\\n\")"
   ]
  },
  {
   "cell_type": "code",
   "execution_count": 9,
   "metadata": {},
   "outputs": [],
   "source": [
    "# returns true if the player wants to draw a card, else returns false\n",
    "\n",
    "def draw():\n",
    "\n",
    "    while True:\n",
    "        inp = input(\"If you wish to draw a card write 1, if not write 2: \")\n",
    "        if inp == \"1\":\n",
    "            return True\n",
    "        if inp == \"2\":\n",
    "            return False"
   ]
  },
  {
   "cell_type": "code",
   "execution_count": 10,
   "metadata": {},
   "outputs": [],
   "source": [
    "# checks if the player is bust\n",
    "\n",
    "def isbust(player_name):\n",
    "    if get_score1(player_name) < 22 or get_score2(player_name) < 22:\n",
    "        return False\n",
    "    else:\n",
    "        return True"
   ]
  },
  {
   "cell_type": "code",
   "execution_count": 11,
   "metadata": {},
   "outputs": [],
   "source": [
    "# calculates the different values of the players hand\n",
    "\n",
    "def value_cards(player_name):\n",
    "    score1 = []\n",
    "    score11 = []\n",
    "    for i in score[player_name][0]:\n",
    "        if i in [i for i in range(2,11)]:\n",
    "            score1.append(i)\n",
    "            score11.append(i)\n",
    "        elif i in [\"K\",\"D\",\"J\"]:\n",
    "            score1.append(10)\n",
    "            score11.append(10)\n",
    "        else:\n",
    "            score1.append(1)\n",
    "            score11.append(11)\n",
    "    score[player_name][1] = score1\n",
    "    score[player_name][2] = score11"
   ]
  },
  {
   "cell_type": "code",
   "execution_count": 12,
   "metadata": {},
   "outputs": [],
   "source": [
    "# deciedes whether the dealer has to draw or not\n",
    "\n",
    "def dealer_draws():\n",
    "    if get_score2(\"Dealer\") < 17:\n",
    "        return True\n",
    "    else:\n",
    "        return False"
   ]
  },
  {
   "cell_type": "code",
   "execution_count": 13,
   "metadata": {},
   "outputs": [],
   "source": [
    "# gets the score of \"player_name\" if Ace equals 1\n",
    "\n",
    "def get_score1(player_name):\n",
    "    return sum(score[player_name][1])"
   ]
  },
  {
   "cell_type": "code",
   "execution_count": 14,
   "metadata": {},
   "outputs": [],
   "source": [
    "# gets the score of \"player_name\" if Ace equals 11\n",
    "\n",
    "def get_score2(player_name):\n",
    "    return sum(score[player_name][2])"
   ]
  },
  {
   "cell_type": "code",
   "execution_count": 15,
   "metadata": {},
   "outputs": [],
   "source": [
    "# returns a list of the winners this round\n",
    "\n",
    "def winner():\n",
    "    return [i for i in players if get_best_score(i) > get_best_score(\"Dealer\")]"
   ]
  },
  {
   "cell_type": "code",
   "execution_count": 16,
   "metadata": {},
   "outputs": [],
   "source": [
    "# returns the best score of \"player_name\"\n",
    "\n",
    "def get_best_score(player_name):\n",
    "    if get_score2(player_name) < 22:\n",
    "        return get_score2(player_name)\n",
    "    else:\n",
    "        return get_score1(player_name)"
   ]
  },
  {
   "cell_type": "code",
   "execution_count": 17,
   "metadata": {},
   "outputs": [],
   "source": [
    "# checks if every player has busted\n",
    "\n",
    "def is_all_bust():\n",
    "    counter = 0\n",
    "    for i in players:\n",
    "        if score[i]==[[],[],[]]:\n",
    "            counter+=1\n",
    "    if counter == len(players):\n",
    "        return True\n",
    "    else:\n",
    "        return False"
   ]
  },
  {
   "cell_type": "markdown",
   "metadata": {},
   "source": [
    "### Bet functions"
   ]
  },
  {
   "cell_type": "code",
   "execution_count": 18,
   "metadata": {},
   "outputs": [],
   "source": [
    "# Asks the player of the amount he/she wants to bet. Only ints are accepted\n",
    "\n",
    "def wanted_bet(player_name):\n",
    "    try: \n",
    "        bet = int(input(player_name+\" choose amount to bet: \"))\n",
    "    except ValueError:\n",
    "        print(\"invalid amount\")\n",
    "        return None\n",
    "    return bet"
   ]
  },
  {
   "cell_type": "code",
   "execution_count": 19,
   "metadata": {},
   "outputs": [],
   "source": [
    "# returns the balance of \"player_name\"\n",
    "\n",
    "def get_balance(player_name):\n",
    "    return balance[player_name]"
   ]
  },
  {
   "cell_type": "code",
   "execution_count": 20,
   "metadata": {},
   "outputs": [],
   "source": [
    "# adds \"amount\" to \"player_name\" balance\n",
    "\n",
    "def add_balance(player_name, amount):\n",
    "    balance[player_name]+=amount"
   ]
  },
  {
   "cell_type": "code",
   "execution_count": 21,
   "metadata": {},
   "outputs": [],
   "source": [
    "# subtracts \"amount\" from \"player_name\" balance\n",
    "\n",
    "def sub_balance(player_name, amount):\n",
    "    balance[player_name]-=amount\n",
    "    bets[player_name] = amount"
   ]
  },
  {
   "cell_type": "code",
   "execution_count": 22,
   "metadata": {},
   "outputs": [],
   "source": [
    "# returns True if \"player_name\" has a balance equal to 0, else false\n",
    "\n",
    "def is_broke(player_name):\n",
    "    if get_balance(player_name) == 0:\n",
    "        return True\n",
    "    else:\n",
    "        return False"
   ]
  },
  {
   "cell_type": "code",
   "execution_count": 23,
   "metadata": {},
   "outputs": [],
   "source": [
    "# removes \"player_name\" from the game\n",
    "\n",
    "def remove_player(player_name):\n",
    "    score.pop(player_name)\n",
    "    balance.pop(player_name)\n",
    "    players.remove(player_name)"
   ]
  },
  {
   "cell_type": "code",
   "execution_count": null,
   "metadata": {},
   "outputs": [],
   "source": []
  },
  {
   "cell_type": "code",
   "execution_count": null,
   "metadata": {},
   "outputs": [],
   "source": []
  },
  {
   "cell_type": "code",
   "execution_count": null,
   "metadata": {},
   "outputs": [],
   "source": []
  },
  {
   "cell_type": "code",
   "execution_count": null,
   "metadata": {},
   "outputs": [],
   "source": []
  },
  {
   "cell_type": "markdown",
   "metadata": {},
   "source": [
    "### Main"
   ]
  },
  {
   "cell_type": "code",
   "execution_count": 28,
   "metadata": {
    "scrolled": true
   },
   "outputs": [
    {
     "name": "stdout",
     "output_type": "stream",
     "text": [
      "Welcome to the table monsiuer! \n",
      "Here we are playing Black Jack and the rules are as follows:\n",
      "\n",
      "Each players starts with a thousand chips\n",
      "Place your bets in the beginning of the round\n",
      "When you get total value higher than 21 on your hand you go bust\n",
      "To win you will need to get a higher value than the dealer\n",
      "Aces are worth either 1 or 11\n",
      "\n",
      "Good luck!\n",
      "\n",
      "Choose the amount of decks to play with '(less than 10)': 6\n",
      "To add a player write 1, if you wish to start the game write 2: 1\n",
      "\n",
      "Write player nickname: Axel\n",
      "To add a player write 1, if you wish to start the game write 2: 1\n",
      "\n",
      "Write player nickname: Hasse\n",
      "To add a player write 1, if you wish to start the game write 2: 2\n",
      "\n",
      "Current balance:  {'Axel': 1000, 'Hasse': 1000}\n",
      "Axel choose amount to bet: 500\n",
      "Hasse choose amount to bet: 300\n",
      "Dealer has: [2] \n",
      "\n",
      "Axel has: [7, 8] \n",
      "\n",
      "If you wish to draw a card write 1, if not write 2: 1\n",
      "Axel has: [7, 8, 6] \n",
      "\n",
      "Blackjack!\n",
      "Hasse has: ['J', 'A'] \n",
      "\n",
      "Blackjack!\n",
      "Dealer has: [2, 4] \n",
      "\n",
      "Dealer has: [2, 4, 2] \n",
      "\n",
      "Dealer has: [2, 4, 2, 'J'] \n",
      "\n",
      "Congratulations Axel, Hasse you win this round\n",
      "To quit press 'q', press any other key to start the next round: \n",
      "\n",
      "Current balance:  {'Axel': 1500, 'Hasse': 1300}\n",
      "Axel choose amount to bet: 1500\n",
      "Hasse choose amount to bet: 700\n",
      "Dealer has: ['A'] \n",
      "\n",
      "Axel has: [10, 'K'] \n",
      "\n",
      "If you wish to draw a card write 1, if not write 2: 2\n",
      "Hasse has: [5, 'A'] \n",
      "\n",
      "If you wish to draw a card write 1, if not write 2: 1\n",
      "Hasse has: [5, 'A', 'A'] \n",
      "\n",
      "If you wish to draw a card write 1, if not write 2: 1\n",
      "Hasse has: [5, 'A', 'A', 3] \n",
      "\n",
      "If you wish to draw a card write 1, if not write 2: 2\n",
      "Dealer has: ['A', 7] \n",
      "\n",
      "Congratulations Axel you win this round\n",
      "To quit press 'q', press any other key to start the next round: \n",
      "\n",
      "Current balance:  {'Axel': 3000, 'Hasse': 600}\n",
      "Axel choose amount to bet: 3000\n",
      "Hasse choose amount to bet: 600\n",
      "Dealer has: [6] \n",
      "\n",
      "Axel has: [8, 10] \n",
      "\n",
      "If you wish to draw a card write 1, if not write 2: 2\n",
      "Hasse has: ['K', 'D'] \n",
      "\n",
      "If you wish to draw a card write 1, if not write 2: 2\n",
      "Dealer has: [6, 3] \n",
      "\n",
      "Dealer has: [6, 3, 4] \n",
      "\n",
      "Dealer has: [6, 3, 4, 7] \n",
      "\n",
      "Dealer wins\n",
      "Axel is broke! Better luck next time.\n",
      "Hasse is broke! Better luck next time.\n",
      "Everyone is broke, come back when you have more money!\n"
     ]
    }
   ],
   "source": [
    "# main\n",
    "#creates a empty list of players, a score dict and a balance dict\n",
    "players = []\n",
    "score = {\"Dealer\":[[],[],[]]}\n",
    "balance = {}\n",
    "\n",
    "# prints rules\n",
    "rules()\n",
    "\n",
    "# asks for amounts of carddecks the users wants to play with and returns a list of cards\n",
    "cmd = 0\n",
    "while True:\n",
    "    cmd = input(\"Choose the amount of decks to play with '(less than 10)': \")\n",
    "    if cmd in [str(i) for i in range(1,9)]:\n",
    "        cmd = int(cmd)\n",
    "        break\n",
    "card_deck = add_cards(cmd)\n",
    "\n",
    "# shuffles the carddeck\n",
    "mix(card_deck)\n",
    "\n",
    "# while-loop that asks the user to add new player or start the game\n",
    "cmd = 0\n",
    "while True:\n",
    "    cmd = input(\"To add a player write 1, if you wish to start the game write 2: \")\n",
    "    if cmd == \"2\":\n",
    "        break\n",
    "    if cmd == \"1\":\n",
    "        add_player()\n",
    "\n",
    "# now to the good stuff, the game itself!\n",
    "# while-loop that starts a new game when the game is over or stops when the players wants to quit\n",
    "cmd = 0\n",
    "while cmd != \"q\":\n",
    "\n",
    "    # each player can place a bet aslong as they have the balance for it\n",
    "    bets = {}\n",
    "    print(\"\\nCurrent balance: \",balance)\n",
    "    for i in players:\n",
    "        while True:\n",
    "            b = wanted_bet(i)\n",
    "            if b == None:\n",
    "                continue\n",
    "            elif b > get_balance(i):\n",
    "                print(\"You have to few chips to place that bet\")\n",
    "            else:\n",
    "                sub_balance(i,b)\n",
    "                break\n",
    "    deal(\"Dealer\")\n",
    "    update(\"Dealer\")\n",
    "    \n",
    "    # this is a nested loop that for each player deals two cards and lets the player \"i\" play his/her turn.\n",
    "    #loops over all the players\n",
    "    for i in players:\n",
    "        \n",
    "        # for each player \"i\" deals two cards and prints the players hand, if the player has 21 it prints \"blackjack\"\n",
    "        for n in range(2):\n",
    "            deal(i)\n",
    "        value_cards(i)\n",
    "        update(i)\n",
    "        if get_best_score(i) == 21:\n",
    "            print(\"Blackjack!\")\n",
    "        else:\n",
    "            \n",
    "            # the player either draws till he/she stops, busts or get blackjack\n",
    "            drw = draw()\n",
    "            while drw == True:\n",
    "                deal(i)\n",
    "                value_cards(i)\n",
    "                update(i)\n",
    "                if isbust(i) == True:\n",
    "                    clear_score(i)\n",
    "                    print(Fore.RED + i,\"is bust\")\n",
    "                    print(Style.RESET_ALL)\n",
    "                    break\n",
    "                elif get_best_score(i) == 21:\n",
    "                    print(\"Blackjack!\")\n",
    "                    break\n",
    "                else:\n",
    "                    drw = draw()\n",
    "    \n",
    "    # checks if everyone busted, if true the game is over and the dealer wins\n",
    "    if is_all_bust() == True:\n",
    "        print(\"Everyone is bust\")\n",
    "    else:\n",
    "        \n",
    "        # the dealer draws untill it is >= 17 or busts\n",
    "        d = dealer_draws()    \n",
    "        while d == True:\n",
    "            deal(\"Dealer\")\n",
    "            value_cards(\"Dealer\")\n",
    "            update(\"Dealer\")\n",
    "            if isbust(\"Dealer\") == True:\n",
    "                clear_score(\"Dealer\")\n",
    "                print(\"Dealer is bust\")\n",
    "                break\n",
    "            d = dealer_draws()\n",
    "            \n",
    "        # declares winners of the turn\n",
    "        winners = winner()\n",
    "        if len(winners) > 0:\n",
    "            print(\"Congratulations\",\", \".join(winner()),\"you win this round\")\n",
    "        else:\n",
    "            print(\"Dealer wins\")\n",
    "        for i in winners:\n",
    "            add_balance(i,bets[i]*2)\n",
    "            \n",
    "    # clears the score for the next round and checks the balance of the players. If broke they are removed\n",
    "    clear_score(\"Dealer\")\n",
    "    temp_players = [i for i in players]\n",
    "    for i in temp_players:\n",
    "        clear_score(i)\n",
    "        if is_broke(i) == True:\n",
    "            print(i,\"is broke! Better luck next time.\")\n",
    "            remove_player(i)\n",
    "        else:\n",
    "            continue\n",
    "    if balance=={}:\n",
    "        time.sleep(0.5)\n",
    "        print(\"Everyone is broke, come back when you have more money!\")\n",
    "        cmd = \"q\"\n",
    "    else:\n",
    "        cmd = input(\"To quit press 'q', press any other key to start the next round: \")"
   ]
  },
  {
   "cell_type": "code",
   "execution_count": null,
   "metadata": {},
   "outputs": [],
   "source": []
  }
 ],
 "metadata": {
  "kernelspec": {
   "display_name": "Python 3",
   "language": "python",
   "name": "python3"
  },
  "language_info": {
   "codemirror_mode": {
    "name": "ipython",
    "version": 3
   },
   "file_extension": ".py",
   "mimetype": "text/x-python",
   "name": "python",
   "nbconvert_exporter": "python",
   "pygments_lexer": "ipython3",
   "version": "3.8.3"
  }
 },
 "nbformat": 4,
 "nbformat_minor": 4
}
